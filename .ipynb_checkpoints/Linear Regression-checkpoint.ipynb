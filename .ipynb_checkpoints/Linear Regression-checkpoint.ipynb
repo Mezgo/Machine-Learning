{
 "cells": [
  {
   "cell_type": "markdown",
   "id": "630b034e-744f-4772-902d-be960bb199fd",
   "metadata": {
    "tags": []
   },
   "source": [
    "# What's Regression\n",
    "\n",
    "Is a technique that predicts the value of variable `y` based on the values of `x`. Helps to find the relations beteen 2 diffetent variables.\n",
    "\n",
    "## Types of Regression\n",
    "\n",
    "- Linear regression\n",
    "\n",
    "- Logistic regression"
   ]
  },
  {
   "cell_type": "markdown",
   "id": "34f12cdb-c383-450e-bcef-6cc9f8ef76bd",
   "metadata": {},
   "source": [
    "# What's Linear Regresison\n",
    "\n",
    "- Supervised learning -> \n",
    "\n",
    "- Used to find linear relationships between independent 'n' independent variable\n",
    "\n",
    "- Finds relationships between 2 or more __continuous variables__.\n",
    "\n",
    "## Multiple Linear Regression\n",
    "\n",
    "- finds the relationship between more than 2 variables.\n",
    "\n",
    "- it have more than 1 predictor variable 'n' one response variable.\n",
    "\n",
    "\n",
    "### Formulas\n",
    "\n",
    "#### Simple Linear Regression\n",
    "$ y = mx + c $\n",
    "\n",
    "#### Multivariate Linear Regression\n",
    "$ y = m1x1 + m2x2 + m3x3 + ... c $"
   ]
  },
  {
   "cell_type": "markdown",
   "id": "fec4a71d-96cf-4465-b387-97d0b1651fe5",
   "metadata": {},
   "source": [
    "# Simple Linear Regression Demoo"
   ]
  },
  {
   "cell_type": "code",
   "execution_count": 12,
   "id": "78e37c42-46a0-4ade-8097-16ceb029bd9c",
   "metadata": {
    "tags": []
   },
   "outputs": [
    {
     "name": "stdout",
     "output_type": "stream",
     "text": [
      "[25 35 45 55 65 75] [ 5 20 14 32 22 38]\n",
      "[[25]\n",
      " [35]\n",
      " [45]\n",
      " [55]\n",
      " [65]\n",
      " [75]]\n"
     ]
    },
    {
     "data": {
      "text/html": [
       "<style>#sk-container-id-1 {color: black;background-color: white;}#sk-container-id-1 pre{padding: 0;}#sk-container-id-1 div.sk-toggleable {background-color: white;}#sk-container-id-1 label.sk-toggleable__label {cursor: pointer;display: block;width: 100%;margin-bottom: 0;padding: 0.3em;box-sizing: border-box;text-align: center;}#sk-container-id-1 label.sk-toggleable__label-arrow:before {content: \"▸\";float: left;margin-right: 0.25em;color: #696969;}#sk-container-id-1 label.sk-toggleable__label-arrow:hover:before {color: black;}#sk-container-id-1 div.sk-estimator:hover label.sk-toggleable__label-arrow:before {color: black;}#sk-container-id-1 div.sk-toggleable__content {max-height: 0;max-width: 0;overflow: hidden;text-align: left;background-color: #f0f8ff;}#sk-container-id-1 div.sk-toggleable__content pre {margin: 0.2em;color: black;border-radius: 0.25em;background-color: #f0f8ff;}#sk-container-id-1 input.sk-toggleable__control:checked~div.sk-toggleable__content {max-height: 200px;max-width: 100%;overflow: auto;}#sk-container-id-1 input.sk-toggleable__control:checked~label.sk-toggleable__label-arrow:before {content: \"▾\";}#sk-container-id-1 div.sk-estimator input.sk-toggleable__control:checked~label.sk-toggleable__label {background-color: #d4ebff;}#sk-container-id-1 div.sk-label input.sk-toggleable__control:checked~label.sk-toggleable__label {background-color: #d4ebff;}#sk-container-id-1 input.sk-hidden--visually {border: 0;clip: rect(1px 1px 1px 1px);clip: rect(1px, 1px, 1px, 1px);height: 1px;margin: -1px;overflow: hidden;padding: 0;position: absolute;width: 1px;}#sk-container-id-1 div.sk-estimator {font-family: monospace;background-color: #f0f8ff;border: 1px dotted black;border-radius: 0.25em;box-sizing: border-box;margin-bottom: 0.5em;}#sk-container-id-1 div.sk-estimator:hover {background-color: #d4ebff;}#sk-container-id-1 div.sk-parallel-item::after {content: \"\";width: 100%;border-bottom: 1px solid gray;flex-grow: 1;}#sk-container-id-1 div.sk-label:hover label.sk-toggleable__label {background-color: #d4ebff;}#sk-container-id-1 div.sk-serial::before {content: \"\";position: absolute;border-left: 1px solid gray;box-sizing: border-box;top: 0;bottom: 0;left: 50%;z-index: 0;}#sk-container-id-1 div.sk-serial {display: flex;flex-direction: column;align-items: center;background-color: white;padding-right: 0.2em;padding-left: 0.2em;position: relative;}#sk-container-id-1 div.sk-item {position: relative;z-index: 1;}#sk-container-id-1 div.sk-parallel {display: flex;align-items: stretch;justify-content: center;background-color: white;position: relative;}#sk-container-id-1 div.sk-item::before, #sk-container-id-1 div.sk-parallel-item::before {content: \"\";position: absolute;border-left: 1px solid gray;box-sizing: border-box;top: 0;bottom: 0;left: 50%;z-index: -1;}#sk-container-id-1 div.sk-parallel-item {display: flex;flex-direction: column;z-index: 1;position: relative;background-color: white;}#sk-container-id-1 div.sk-parallel-item:first-child::after {align-self: flex-end;width: 50%;}#sk-container-id-1 div.sk-parallel-item:last-child::after {align-self: flex-start;width: 50%;}#sk-container-id-1 div.sk-parallel-item:only-child::after {width: 0;}#sk-container-id-1 div.sk-dashed-wrapped {border: 1px dashed gray;margin: 0 0.4em 0.5em 0.4em;box-sizing: border-box;padding-bottom: 0.4em;background-color: white;}#sk-container-id-1 div.sk-label label {font-family: monospace;font-weight: bold;display: inline-block;line-height: 1.2em;}#sk-container-id-1 div.sk-label-container {text-align: center;}#sk-container-id-1 div.sk-container {/* jupyter's `normalize.less` sets `[hidden] { display: none; }` but bootstrap.min.css set `[hidden] { display: none !important; }` so we also need the `!important` here to be able to override the default hidden behavior on the sphinx rendered scikit-learn.org. See: https://github.com/scikit-learn/scikit-learn/issues/21755 */display: inline-block !important;position: relative;}#sk-container-id-1 div.sk-text-repr-fallback {display: none;}</style><div id=\"sk-container-id-1\" class=\"sk-top-container\"><div class=\"sk-text-repr-fallback\"><pre>LinearRegression()</pre><b>In a Jupyter environment, please rerun this cell to show the HTML representation or trust the notebook. <br />On GitHub, the HTML representation is unable to render, please try loading this page with nbviewer.org.</b></div><div class=\"sk-container\" hidden><div class=\"sk-item\"><div class=\"sk-estimator sk-toggleable\"><input class=\"sk-toggleable__control sk-hidden--visually\" id=\"sk-estimator-id-1\" type=\"checkbox\" checked><label for=\"sk-estimator-id-1\" class=\"sk-toggleable__label sk-toggleable__label-arrow\">LinearRegression</label><div class=\"sk-toggleable__content\"><pre>LinearRegression()</pre></div></div></div></div></div>"
      ],
      "text/plain": [
       "LinearRegression()"
      ]
     },
     "execution_count": 12,
     "metadata": {},
     "output_type": "execute_result"
    }
   ],
   "source": [
    "import numpy as np\n",
    "from sklearn.linear_model import LinearRegression\n",
    "\n",
    "x = np.array([25, 35, 45, 55, 65, 75])\n",
    "y = np.array([5, 20, 14, 32, 22, 38])\n",
    "\n",
    "print(x, y)\n",
    "\n",
    "x = x.reshape(-1,1) \n",
    "'''this is done 'couse the array is required to have one column 'n as many \n",
    "rows as necessary'''\n",
    "print(x)\n",
    "\n",
    "model = LinearRegression()\n",
    "\n",
    "model.fit(x, y)"
   ]
  },
  {
   "cell_type": "markdown",
   "id": "5f463d1c-a623-4848-992f-fa214862c15c",
   "metadata": {},
   "source": [
    "### The following is to check if the model works satisfactory & interpret it."
   ]
  },
  {
   "cell_type": "code",
   "execution_count": 13,
   "id": "e4d0da0f-fbc1-4c10-a9e4-06456c0e3e34",
   "metadata": {
    "tags": []
   },
   "outputs": [
    {
     "name": "stdout",
     "output_type": "stream",
     "text": [
      "coefficient of determinarion: 0.7158756137479542\n"
     ]
    }
   ],
   "source": [
    "r_sq_score = model.score(x,y)\n",
    "print(f'coefficient of determinarion: {r_sq_score}')"
   ]
  },
  {
   "cell_type": "code",
   "execution_count": 15,
   "id": "95f8f848-efbc-4e39-ad84-6d84ce444ff3",
   "metadata": {
    "tags": []
   },
   "outputs": [
    {
     "name": "stdout",
     "output_type": "stream",
     "text": [
      "intercept: -5.166666666666668\n"
     ]
    }
   ],
   "source": [
    "print(f'intercept: {model.intercept_}')"
   ]
  },
  {
   "cell_type": "code",
   "execution_count": 16,
   "id": "076484a5-9006-4441-bf1e-42e16cf363b8",
   "metadata": {
    "tags": []
   },
   "outputs": [
    {
     "name": "stdout",
     "output_type": "stream",
     "text": [
      "slope: [0.54]\n"
     ]
    }
   ],
   "source": [
    "print(f'slope: {model.coef_}')"
   ]
  },
  {
   "cell_type": "code",
   "execution_count": 17,
   "id": "b5289f4d-f960-4cd1-9e71-1a92dae08dc3",
   "metadata": {
    "tags": []
   },
   "outputs": [],
   "source": [
    "y_predict = model.predict(x)"
   ]
  },
  {
   "cell_type": "code",
   "execution_count": 18,
   "id": "e4645a9f-52e9-4e3e-a364-c74a76607197",
   "metadata": {
    "tags": []
   },
   "outputs": [
    {
     "name": "stdout",
     "output_type": "stream",
     "text": [
      "actual values: [ 5 20 14 32 22 38]\n",
      "predicted values [ 8.33333333 13.73333333 19.13333333 24.53333333 29.93333333 35.33333333]\n"
     ]
    }
   ],
   "source": [
    "print('actual values:', y)\n",
    "print('predicted values', y_predict)"
   ]
  },
  {
   "cell_type": "markdown",
   "id": "e143e4f4-46ca-4619-840e-8ec9332aaa48",
   "metadata": {},
   "source": [
    "## Multiple Linear Regression"
   ]
  },
  {
   "cell_type": "code",
   "execution_count": 19,
   "id": "7025a1a5-107a-4df0-9ed0-b2842d156b5b",
   "metadata": {
    "tags": []
   },
   "outputs": [],
   "source": [
    "import numpy as np\n",
    "from sklearn.linear_model import LogisticRegression"
   ]
  },
  {
   "cell_type": "code",
   "execution_count": null,
   "id": "1223297b-6cd0-49cc-b546-fecd001ff879",
   "metadata": {},
   "outputs": [],
   "source": [
    "x = [[10,21],\n",
    "     [5,18],]"
   ]
  }
 ],
 "metadata": {
  "kernelspec": {
   "display_name": "Python 3 (ipykernel)",
   "language": "python",
   "name": "python3"
  },
  "language_info": {
   "codemirror_mode": {
    "name": "ipython",
    "version": 3
   },
   "file_extension": ".py",
   "mimetype": "text/x-python",
   "name": "python",
   "nbconvert_exporter": "python",
   "pygments_lexer": "ipython3",
   "version": "3.10.6"
  }
 },
 "nbformat": 4,
 "nbformat_minor": 5
}
